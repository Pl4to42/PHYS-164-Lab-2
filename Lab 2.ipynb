{
 "cells": [
  {
   "cell_type": "markdown",
   "metadata": {},
   "source": [
    "# Lab 2 - Astronomical Spectroscopy"
   ]
  },
  {
   "cell_type": "markdown",
   "metadata": {},
   "source": [
    "## Import libraries and define common functions"
   ]
  },
  {
   "cell_type": "code",
   "execution_count": null,
   "metadata": {},
   "outputs": [],
   "source": [
    "import numpy as np\n",
    "import matplotlib.pyplot as plt\n",
    "from warnings import warn\n",
    "from collections import namedtuple"
   ]
  },
  {
   "cell_type": "code",
   "execution_count": null,
   "metadata": {},
   "outputs": [],
   "source": [
    "def centroid(arr, bounds=None): # returns the centroid index for an array with optional bounds for computing the centroid\n",
    "    if bounds is None: # computes centroid over the entire array\n",
    "        return sum(range(len(arr)) * arr) / sum(arr)\n",
    "    else: # computes centroid over the subset of the array within the given bounds\n",
    "        arrBound = arr[bounds[0]:bounds[1]]\n",
    "        return sum(range(len(arrBound)) * arrBound) / sum(arrBound) + bounds[0]\n",
    "\n",
    "def leastSquaresFit(x, y): # computes the slope and intercept of a least squares regression line fitting the input data\n",
    "    if len(x) != len(y): # raises an error if the arrays are not the same length\n",
    "        raise ValueError('x and y must be the same size')\n",
    "    else:\n",
    "        # named tuples to be returned\n",
    "        Parameters = namedtuple('Parameters', ['m', 'b'])\n",
    "        Errors = namedtuple('Errors', ['dm', 'db'])\n",
    "        \n",
    "        # Construct the matrices\n",
    "        ma = np.array([[np.sum(x**2), np.sum(x)], [np.sum(x), len(x)]])\n",
    "        mc = np.array([[np.sum(x*y)], [np.sum(y)]])\n",
    "\n",
    "        # Compute the gradient and intercept\n",
    "        mai = np.linalg.inv(ma) # inverts matrix ma\n",
    "        md = np.dot(mai,mc) # matrix multiply is dot\n",
    "\n",
    "        # error propagation using formulae in lab manual (page 7)\n",
    "        sigma = np.sqrt(np.sum((y - (md[0,0] * x + md[1,0])) ** 2) / (len(x) - 2))\n",
    "        sigmam = np.sqrt(len(x) * sigma ** 2 / (len(x)*np.sum(x**2) - np.sum(x)**2))\n",
    "        sigmab = np.sqrt((sigma**2) * np.sum(x**2) / (len(x)*np.sum(x**2) - np.sum(x)**2))\n",
    "\n",
    "        # construct tuples\n",
    "        params = Parameters(md[0,0], md[1,0])\n",
    "        errs = Errors(sigmam, sigmab)\n",
    "\n",
    "        return params, errs"
   ]
  },
  {
   "cell_type": "code",
   "execution_count": null,
   "metadata": {},
   "outputs": [],
   "source": [
    "# The end-all, be-all of centroid functions. It slices. It dices. It cuts. Ladies and gents, nCentroids does it all.\n",
    "def nCentroids(arr, n=None, bounds=None, background=None, nsigma=10, cutoff=None): # returns a 1xn array of centroid indices\n",
    "    if not(n is None) and n < 1: # n is the number of peaks to centroid, so if specified, it must be at least 1\n",
    "        raise ValueError('n must be greater than or equal to 1')\n",
    "\n",
    "    offset = 0\n",
    "    if not(bounds is None): # resizes the array to only the values within the bounds while saving an offset to add to the final centroids\n",
    "        arr = arr[bounds[0]:bounds[1]]\n",
    "        offset = bounds[0]\n",
    "\n",
    "    crosses = [] # to save the indices where arr crasses above or below the div or cutoff\n",
    "    if (background is None and cutoff is None) or not(n is None): # this if-block to run when n is specified or when nothing is\n",
    "        if not(background is None and cutoff is None): # prioritize the right number of peaks over using a background noise\n",
    "            warn('background and cutoff are ignored when n is provided')\n",
    "        \n",
    "        # if n is unspecified at this point, then neither are background or cutoff, so we need some criteria to isolate peaks\n",
    "        # by default, we find the centroid for the 1 largest peak\n",
    "        if n is None: \n",
    "            n = 1\n",
    "        \n",
    "        div = (np.max(arr) + np.min(arr)) / 2 # sets divider at the midpoint of the data\n",
    "        lastDiv = None\n",
    "        peaks = 0\n",
    "        while peaks != n:\n",
    "            divArr = arr - div\n",
    "            crosses = np.where(np.diff(np.sign(divArr)))[0] # identifies indices where arr goes from < to > div or vice versa\n",
    "            if (len(crosses) % 2 != 0): # if it crosses an uneven number of times, the bounds may not fully contain a peak\n",
    "                raise RuntimeError('the number of peaks could not be resolved within the bounds of arr')\n",
    "\n",
    "            temp = div\n",
    "            peaks = int(len(crosses) / 2) # What goes up must come down. For every peak there are 2 crosses of div\n",
    "            # adjust div up or down according to whether there are too many or too few peaks above div\n",
    "            if peaks < n:\n",
    "                if lastDiv is None:\n",
    "                    div -= abs(div - np.min(arr)) / 2\n",
    "                else:\n",
    "                    div -= abs(div - lastDiv) / 2\n",
    "            elif peaks > n:\n",
    "                if lastDiv is None:\n",
    "                    div += abs(div + np.min(arr)) / 2\n",
    "                else:\n",
    "                    div += abs(div + lastDiv) / 2\n",
    "            lastDiv = temp\n",
    "    else: # occurs when using a cutoff or background to identify peaks\n",
    "        if not(background is None) and not(cutoff is None):\n",
    "            warn('background is ignored when cutoff is provided') # priority of use: n > cutoff > background\n",
    "        if cutoff is None: # sets a cutoff based on the standard deviation and mean of the background and nsigma\n",
    "            cutoff = nsigma*np.std(background) + np.mean(background) \n",
    "        divArr = arr - cutoff\n",
    "        crosses = np.where(np.diff(np.sign(divArr)))[0] # identifies indices where arr goes from < to > cutoff or vice versa\n",
    "        \n",
    "    subBounds = np.array(np.reshape(crosses, (int(len(crosses)/2), 2))) # uses crosses as paired upper and lower bounds for centroids\n",
    "    for i, abounds in enumerate(subBounds): # expands the bounds to make sure the full width of the peak is considered to determie centroid\n",
    "        width = abs(abounds[0] - abounds[1])\n",
    "        if i > 0:\n",
    "            subBounds[i][0] = max(abounds[0] - width, subBounds[i-1][0]) # max prevents overlap with bounds of another peak\n",
    "        else:\n",
    "            subBounds[i][0] = abounds[0] - width\n",
    "        \n",
    "        if i < len(subBounds) - 1:\n",
    "            subBounds[i][1] = min(abounds[1] + width, int((subBounds[i+1][0] + abounds[1])/2)) # min prevents overlap with bounds of another peak\n",
    "        else:\n",
    "            subBounds[i][1] = abounds[1] + width\n",
    "\n",
    "    # computes the centroids for arr in each of the bound regions\n",
    "    centroids = np.array([centroid(arr, abounds) + offset for abounds in subBounds])\n",
    "    return centroids"
   ]
  },
  {
   "cell_type": "markdown",
   "metadata": {},
   "source": [
    "## Data Read-in"
   ]
  },
  {
   "cell_type": "markdown",
   "metadata": {},
   "source": [
    "Because there is no logical order to the elements, an array probably doesn't make as much sense. It would be easy to forget which index of an array corresponds to data for which element. Therefore I have stored the data in a dictionary of 2D arrays, with keys corresponding to the individual elements. The 2D arrays have first index corresponding to the position of the image: close, middle, and far (0, 1, and 2 respectively). The second index corresponds to the pixel index and the elements are intensities at those pixels.\n",
    "\n",
    "We could change this to a nested dictionary, using keys to access data for a given position, but I think the 0-2 for close-far is easy enough to remember and easier to access the data than a dictionary."
   ]
  },
  {
   "cell_type": "markdown",
   "metadata": {},
   "source": [
    "[See docs for dictionaries in Python](https://devdocs.io/python~3.9/library/stdtypes#typesmapping)"
   ]
  },
  {
   "cell_type": "code",
   "execution_count": null,
   "metadata": {},
   "outputs": [],
   "source": [
    "elements = ['hydrogen', 'helium', 'neon', 'mercury']\n",
    "positions = ['close', 'middle', 'far']\n",
    "\n",
    "elementsData = {}\n",
    "for el in elements: # loops through all elements whose spectra we observed\n",
    "    filens = [('data/' + el + '_' + pos + '.txt') for pos in positions] # creating a list of all 3 file names for the current element\n",
    "    elData = [np.loadtxt(file, delimiter=',', usecols=(1)) for file in filens] # creates the 2D array that will be stored as a value in elementsData, spectra of the current element at each position\n",
    "    elementsData[el] = elData"
   ]
  },
  {
   "cell_type": "markdown",
   "metadata": {},
   "source": [
    "## Determine centroids of emission lines and find pixel-to-wavelength conversion function"
   ]
  },
  {
   "cell_type": "markdown",
   "metadata": {},
   "source": [
    "Start by choosing which spectrum image to use for each element to locate their emission lines."
   ]
  },
  {
   "cell_type": "code",
   "execution_count": null,
   "metadata": {},
   "outputs": [],
   "source": [
    "colors = ['magenta', 'violet', 'darkorange', 'aqua'] # color code according to lamp color\n",
    "\n",
    "# plot spectra in 4x3 array to compare ranges for which has the most readable emission lines\n",
    "fig, axs = plt.subplots(4,3)\n",
    "for r, el in enumerate(elementsData):\n",
    "    for c, dat in enumerate(elementsData[el]):\n",
    "        axs[r, c].plot(range(len(dat)), dat, color=colors[r])\n",
    "        axs[r, c].get_xaxis().set_visible(False)\n",
    "        axs[r, c].get_yaxis().set_visible(False)\n",
    "        title = el + ', ' + positions[c]\n",
    "        axs[r, c].set_title(title)\n",
    "\n",
    "plt.tight_layout(pad = 0.75)\n",
    "plt.show()"
   ]
  },
  {
   "cell_type": "markdown",
   "metadata": {},
   "source": [
    "To determine the wavelengths corresponding to each line, we need to see the relative intensities of as many lines as possible, therefore we cannot use overexposed spectra where multiple lines have maxed out the intensity measurement, nor can we use underexposed spectra where lines are indistinguishable from the background. Therefore, based on the above comparison, we should use the close spectrum for hydrogen and the middle spectra for the other elements."
   ]
  },
  {
   "cell_type": "code",
   "execution_count": null,
   "metadata": {},
   "outputs": [],
   "source": [
    "# define arrays of the centroids and wavelengths of the major emission lines of each element\n",
    "# this is done manually because the ranges for centroid computation are manually selected and all the wavelengths are constants\n",
    "yH = np.array([434.0462, 486.13615, 656.28518]) \n",
    "xH = nCentroids(elementsData['hydrogen'][0], 3)\n",
    "\n",
    "yHe = np.array([587.56, 667.82, 706.52])\n",
    "xHe = nCentroids(elementsData['helium'][1], 3)\n",
    "\n",
    "yNe = np.array([585.25, 614.31, 640.97])\n",
    "xNe = nCentroids(elementsData['neon'][1], 3)\n",
    "\n",
    "yHg = np.array([435.83, 546.07, 579.07])\n",
    "xHg = nCentroids(elementsData['mercury'][1], 3)"
   ]
  },
  {
   "cell_type": "code",
   "execution_count": null,
   "metadata": {},
   "outputs": [],
   "source": [
    "xAll = np.concatenate([xH, xHe, xNe, xHg]) # creates a 1D array of all the computed centroids\n",
    "yAll = np.concatenate([yH, yHe, yNe, yHg]) # creates a 1D array of all the emission line wavelengths\n",
    "params, errs = leastSquaresFit(xAll, yAll) # compute the fit parameters and errors\n",
    "m, b = params\n",
    "dm, db = errs"
   ]
  },
  {
   "cell_type": "code",
   "execution_count": null,
   "metadata": {},
   "outputs": [],
   "source": [
    "# plot centroid-wavelength pairs for each element, color-coded with the lamp's appearance\n",
    "plt.scatter(xH, yH, color=colors[0])\n",
    "plt.scatter(xHe, yHe, color=colors[1])\n",
    "plt.scatter(xNe, yNe, color=colors[2])\n",
    "plt.scatter(xHg, yHg, color=colors[3])\n",
    "\n",
    "# plot the least squares fit line\n",
    "x = np.arange(xAll.min(), xAll.max(), dtype=float) # I have to do this because the line style doesn't work without it for some indiscernable reason\n",
    "plt.plot(x, m*x + b, 'r--', label=('$y = mx + b$\\n$m$ = %.4f $\\pm$ %.4f nm px$^{-1}$\\n$b$ = %.1f $\\pm$ %.1f nm' % (m, dm, b, db)), zorder=0) \n",
    "\n",
    "# labeling\n",
    "plt.title('Wavelength vs Centroid Index')\n",
    "plt.xlabel('Centroid Index (pixel)')\n",
    "plt.ylabel('Wavelength (nm)')\n",
    "plt.legend()\n",
    "\n",
    "plt.show()"
   ]
  },
  {
   "cell_type": "code",
   "execution_count": null,
   "metadata": {},
   "outputs": [],
   "source": [
    "# define conversion function for convenience later on\n",
    "def pxToWavelength(px):\n",
    "    return m*px + b"
   ]
  },
  {
   "cell_type": "markdown",
   "metadata": {},
   "source": [
    "## Examples/Tests"
   ]
  },
  {
   "cell_type": "markdown",
   "metadata": {},
   "source": [
    "### Example of accessing spectra in elementsData"
   ]
  },
  {
   "cell_type": "code",
   "execution_count": null,
   "metadata": {},
   "outputs": [],
   "source": [
    "for el in elementsData: # el is a str, looping through each of the keys in elementsData\n",
    "    for dat in elementsData[el]: # accesses the 2D array for given element key el, looping through each position\n",
    "        plt.plot(range(len(dat)), dat) # plotting to show that accessing the data in this way results in the array dat being the expected 1xn array of intensities\n",
    "\n",
    "plt.xlabel('Pixel')\n",
    "plt.ylabel('Intensity')\n",
    "plt.show()"
   ]
  },
  {
   "cell_type": "code",
   "execution_count": null,
   "metadata": {},
   "outputs": [],
   "source": [
    "print(np.shape(elementsData['hydrogen']))"
   ]
  },
  {
   "cell_type": "markdown",
   "metadata": {},
   "source": [
    "### Centroid function test"
   ]
  },
  {
   "cell_type": "code",
   "execution_count": null,
   "metadata": {},
   "outputs": [],
   "source": [
    "plt.plot(range(len(elementsData['hydrogen'][0])), elementsData['hydrogen'][0])\n",
    "cen = centroid(elementsData['hydrogen'][0],(2900,2950)) # using the optional bounds parameter to find the centroid of the emission line between pixels 2900 and 2950\n",
    "print(cen)\n",
    "plt.axvline(cen, color='red', linestyle='--')\n",
    "plt.xlim(2900, 2950)\n",
    "plt.show()"
   ]
  },
  {
   "cell_type": "markdown",
   "metadata": {},
   "source": [
    "### nCentroids function tests"
   ]
  },
  {
   "cell_type": "code",
   "execution_count": null,
   "metadata": {},
   "outputs": [],
   "source": [
    "arr = elementsData['hydrogen'][0]"
   ]
  },
  {
   "cell_type": "code",
   "execution_count": null,
   "metadata": {},
   "outputs": [],
   "source": [
    "centroids = []\n",
    "centroids.append(nCentroids(arr)) # should return a single centroid at the index of the largest peak\n",
    "\n",
    "plt.plot(range(len(arr)), arr)\n",
    "for c in centroids:\n",
    "    plt.axvline(c, color='red', linestyle='--')\n",
    "\n",
    "plt.show()"
   ]
  },
  {
   "cell_type": "code",
   "execution_count": null,
   "metadata": {},
   "outputs": [],
   "source": [
    "centroids = nCentroids(arr, 2) # should return centroids of the two largest peaks\n",
    "\n",
    "plt.plot(range(len(arr)), arr)\n",
    "for c in centroids:\n",
    "    plt.axvline(c, color='red', linestyle='--')\n",
    "\n",
    "plt.show()"
   ]
  },
  {
   "cell_type": "code",
   "execution_count": null,
   "metadata": {},
   "outputs": [],
   "source": [
    "centroids = nCentroids(arr, background=arr[1550:2850], nsigma=10) # return centroids of peaks higher than 10 standard deviations above the mean based on the provided background\n",
    "#Because the background has low noise, this picks up a lot of peaks unless nsigma is large\n",
    "print(len(centroids))\n",
    "\n",
    "plt.plot(range(len(arr)), arr)\n",
    "for c in centroids:\n",
    "    plt.axvline(c, color='red', linestyle='--')\n",
    "\n",
    "plt.show()"
   ]
  },
  {
   "cell_type": "code",
   "execution_count": null,
   "metadata": {},
   "outputs": [],
   "source": [
    "centroids = nCentroids(arr, cutoff=0.05) # should return centroids of all peaks greater than 0.05\n",
    "\n",
    "plt.plot(range(len(arr)), arr)\n",
    "for c in centroids:\n",
    "    plt.axvline(c, color='red', linestyle='--')\n",
    "\n",
    "plt.show()"
   ]
  },
  {
   "cell_type": "code",
   "execution_count": null,
   "metadata": {},
   "outputs": [],
   "source": [
    "centroids = nCentroids(arr, 2, background=arr[1550:2850]) # should return centroids of the two largest peaks and send a warning\n",
    "print(len(centroids))"
   ]
  },
  {
   "cell_type": "code",
   "execution_count": null,
   "metadata": {},
   "outputs": [],
   "source": [
    "centroids = nCentroids(arr, 2, cutoff = 0.1) # should return centroids of the two largest peaks and send a warning\n",
    "print(len(centroids))"
   ]
  },
  {
   "cell_type": "code",
   "execution_count": null,
   "metadata": {},
   "outputs": [],
   "source": [
    "centroids = nCentroids(arr, 2, background=arr[1550:2850], cutoff=0.1) # should return centroids of the two largest peaks and send a warning\n",
    "print(len(centroids))"
   ]
  },
  {
   "cell_type": "code",
   "execution_count": null,
   "metadata": {},
   "outputs": [],
   "source": [
    "centroids = nCentroids(arr, background=arr[1550:2850], cutoff=0.6) # should return centroids of peaks above the cutoff and send a warning\n",
    "print(len(centroids))"
   ]
  },
  {
   "cell_type": "markdown",
   "metadata": {},
   "source": [
    "### Fitting function test"
   ]
  },
  {
   "cell_type": "code",
   "execution_count": null,
   "metadata": {},
   "outputs": [],
   "source": [
    "m = 1\n",
    "c = 0\n",
    "\n",
    "x = np.arange(20, dtype=float)\n",
    "#np.random.seed(1)\n",
    "y = m*x + c + np.random.randn(20)\n",
    "\n",
    "mfit, cfit = leastSquaresFit(x,y)\n",
    "\n",
    "plt.scatter(x, y)\n",
    "plt.plot(x, mfit*x + cfit)\n",
    "plt.text(5,15,'m = {:.3f}\\nc = {:.3f}'.format(mfit,cfit))"
   ]
  }
 ],
 "metadata": {
  "kernelspec": {
   "display_name": "Python 3",
   "language": "python",
   "name": "python3"
  },
  "language_info": {
   "codemirror_mode": {
    "name": "ipython",
    "version": 3
   },
   "file_extension": ".py",
   "mimetype": "text/x-python",
   "name": "python",
   "nbconvert_exporter": "python",
   "pygments_lexer": "ipython3",
   "version": "3.11.5"
  }
 },
 "nbformat": 4,
 "nbformat_minor": 2
}
